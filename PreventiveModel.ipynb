{
 "cells": [
  {
   "cell_type": "code",
   "execution_count": 1,
   "metadata": {},
   "outputs": [
    {
     "name": "stderr",
     "output_type": "stream",
     "text": [
      "Using TensorFlow backend.\n"
     ]
    }
   ],
   "source": [
    "import keras\n",
    "import glob\n",
    "import seaborn as sns\n",
    "import pandas as pd\n",
    "import numpy as np\n",
    "import timeit\n",
    "import time\n",
    "import matplotlib.pyplot as plt\n",
    "import matplotlib.patches as patches"
   ]
  },
  {
   "cell_type": "code",
   "execution_count": 2,
   "metadata": {},
   "outputs": [],
   "source": [
    "from pandas import read_csv\n",
    "from sklearn.model_selection import cross_val_score\n",
    "from sklearn.model_selection import KFold\n",
    "from sklearn.preprocessing import LabelEncoder\n",
    "from sklearn.pipeline import Pipeline\n",
    "from keras.models import Sequential\n",
    "from keras.layers import Dense\n",
    "from keras.wrappers.scikit_learn import KerasClassifier\n",
    "from keras.utils import np_utils"
   ]
  },
  {
   "cell_type": "code",
   "execution_count": 3,
   "metadata": {},
   "outputs": [
    {
     "name": "stdout",
     "output_type": "stream",
     "text": [
      "  Subject ID         MRI ID        Group  Visit  MR Delay M/F Hand  Age  EDUC  \\\n",
      "0  OAS2_0001  OAS2_0001_MR1  Nondemented      1         0   M    R   87    14   \n",
      "1  OAS2_0001  OAS2_0001_MR2  Nondemented      2       457   M    R   88    14   \n",
      "2  OAS2_0002  OAS2_0002_MR1     Demented      1         0   M    R   75    12   \n",
      "3  OAS2_0002  OAS2_0002_MR2     Demented      2       560   M    R   76    12   \n",
      "4  OAS2_0002  OAS2_0002_MR3     Demented      3      1895   M    R   80    12   \n",
      "\n",
      "   SES  MMSE  CDR  eTIV   nWBV    ASF  \n",
      "0  2.0  27.0  0.0  1987  0.696  0.883  \n",
      "1  2.0  30.0  0.0  2004  0.681  0.876  \n",
      "2  2.0  23.0  0.5  1678  0.736  1.046  \n",
      "3  2.0  28.0  0.5  1738  0.713  1.010  \n",
      "4  2.0  22.0  0.5  1698  0.701  1.034  \n",
      "<class 'pandas.core.frame.DataFrame'>\n",
      "RangeIndex: 373 entries, 0 to 372\n",
      "Data columns (total 15 columns):\n",
      "Subject ID    373 non-null object\n",
      "MRI ID        373 non-null object\n",
      "Group         373 non-null object\n",
      "Visit         373 non-null int64\n",
      "MR Delay      373 non-null int64\n",
      "M/F           373 non-null object\n",
      "Hand          373 non-null object\n",
      "Age           373 non-null int64\n",
      "EDUC          373 non-null int64\n",
      "SES           373 non-null float64\n",
      "MMSE          373 non-null float64\n",
      "CDR           373 non-null float64\n",
      "eTIV          373 non-null int64\n",
      "nWBV          373 non-null float64\n",
      "ASF           373 non-null float64\n",
      "dtypes: float64(5), int64(5), object(5)\n",
      "memory usage: 43.8+ KB\n",
      "None\n"
     ]
    }
   ],
   "source": [
    "cross1=pd.read_csv('oasis_longitudinal.csv')\n",
    "cross1 = cross1.fillna(method='ffill')\n",
    "#cross2=pd.read_csv('oasis_cross-sectional.csv')\n",
    "#cross2 = cross2.fillna(method='ffill')\n",
    "print (cross1.head())\n",
    "#print (cross2.head())\n",
    "print (cross1.info())\n",
    "#print (cross2.info())"
   ]
  },
  {
   "cell_type": "code",
   "execution_count": 4,
   "metadata": {},
   "outputs": [
    {
     "name": "stdout",
     "output_type": "stream",
     "text": [
      "0      OAS2_0001\n",
      "1      OAS2_0001\n",
      "2      OAS2_0002\n",
      "3      OAS2_0002\n",
      "4      OAS2_0002\n",
      "5      OAS2_0004\n",
      "6      OAS2_0004\n",
      "7      OAS2_0005\n",
      "8      OAS2_0005\n",
      "9      OAS2_0005\n",
      "10     OAS2_0007\n",
      "11     OAS2_0007\n",
      "12     OAS2_0007\n",
      "13     OAS2_0008\n",
      "14     OAS2_0008\n",
      "15     OAS2_0009\n",
      "16     OAS2_0009\n",
      "17     OAS2_0010\n",
      "18     OAS2_0010\n",
      "19     OAS2_0012\n",
      "20     OAS2_0012\n",
      "21     OAS2_0012\n",
      "22     OAS2_0013\n",
      "23     OAS2_0013\n",
      "24     OAS2_0013\n",
      "25     OAS2_0014\n",
      "26     OAS2_0014\n",
      "27     OAS2_0016\n",
      "28     OAS2_0016\n",
      "29     OAS2_0017\n",
      "         ...    \n",
      "343    OAS2_0175\n",
      "344    OAS2_0175\n",
      "345    OAS2_0175\n",
      "346    OAS2_0176\n",
      "347    OAS2_0176\n",
      "348    OAS2_0176\n",
      "349    OAS2_0177\n",
      "350    OAS2_0177\n",
      "351    OAS2_0178\n",
      "352    OAS2_0178\n",
      "353    OAS2_0178\n",
      "354    OAS2_0179\n",
      "355    OAS2_0179\n",
      "356    OAS2_0181\n",
      "357    OAS2_0181\n",
      "358    OAS2_0181\n",
      "359    OAS2_0182\n",
      "360    OAS2_0182\n",
      "361    OAS2_0183\n",
      "362    OAS2_0183\n",
      "363    OAS2_0183\n",
      "364    OAS2_0183\n",
      "365    OAS2_0184\n",
      "366    OAS2_0184\n",
      "367    OAS2_0185\n",
      "368    OAS2_0185\n",
      "369    OAS2_0185\n",
      "370    OAS2_0186\n",
      "371    OAS2_0186\n",
      "372    OAS2_0186\n",
      "Name: Subject ID, Length: 373, dtype: object\n"
     ]
    }
   ],
   "source": [
    "print(cross1['Subject ID'])"
   ]
  },
  {
   "cell_type": "code",
   "execution_count": 26,
   "metadata": {
    "scrolled": true
   },
   "outputs": [
    {
     "name": "stdout",
     "output_type": "stream",
     "text": [
      "Enter the Subject ID: OAS2_0181\n",
      "CDR Mean:  0.8333333333333334\n",
      "MMSE mean:  26.0\n",
      "CDR standard deviation:  0.28867513459481287\n",
      "MMSE standard deviation:  0.0\n"
     ]
    },
    {
     "data": {
      "image/png": "[encoded data removed]",
      "text/plain": [
       "<Figure size 432x288 with 1 Axes>"
      ]
     },
     "metadata": {
      "needs_background": "light"
     },
     "output_type": "display_data"
    },
    {
     "name": "stdout",
     "output_type": "stream",
     "text": [
      "General preventive measures\n",
      "----------------------------\n",
      " \n",
      "1. Regular exercise : \n",
      "i. Aim for at least 150 minutes of moderate intensity exercise each week. \n",
      "ii. Build muscle to pump up your brain. For those over 65, adding 2-3 strength sessions to your weekly routine may cut your risk of Alzheimer’s in half.\n",
      "iii. Include balance and coordination exercises. Balance and coordination exercises can help you stay agile and avoid spills. Try yoga, Tai Chi, or exercises using balance balls.\n",
      "\n",
      "2. Social engagement\n",
      "i. Volunteer\n",
      "ii. Join a club or social group\n",
      "iii. Visit your local community center or senior center\n",
      "iv. Take group classes (such as at the gym or a community college)\n",
      "v. Reach out over the phone or email\n",
      "vi. Connect to others via social networks such as Facebook\n",
      "vii. Get to know your neighbors\n",
      "viii. Make a weekly date with friends\n",
      "ix. Get out (go to the movies, the park, museums, and other public places)\n",
      "\n",
      "3. Healthy diet\n",
      "i. Cut down on sugar.\n",
      "ii. Enjoy a Mediterranean diet.\n",
      "iii. Avoid trans fats.\n",
      "iv. Get plenty of omega-3 fats.\n",
      "v. Stock up on fruit and vegetables.\n",
      "vi. Enjoy daily cups of tea.\n",
      "vii. Cook at home often.\n",
      "\n",
      "4. Mental stimulation\n",
      "i. Learn something new.\n",
      "ii. Raise the bar for an existing activity.\n",
      "iii. Practice memorization.\n",
      "iv. Enjoy strategy games, puzzles, and riddles.\n",
      "v. Practice the 5 W’s. Keep a “Who, What, Where, When, and Why” list of your daily experiences.\n",
      "vi. Follow the road less traveled.\n",
      "\n",
      "5. Quality sleep\n",
      "i. Get screened for sleep apnea. \n",
      "ii. Establish a regular sleep schedule. \n",
      "iii. Be smart about napping. \n",
      "iv. Set the mood. \n",
      "v. Create a relaxing bedtime ritual. \n",
      "vi. Quiet your inner chatter. \n",
      "\n",
      "6. Stress management\n",
      "i. Breathe! \n",
      "ii. Schedule daily relaxation activities. \n",
      "iii. Nourish inner peace. \n",
      "iv. Make fun a priority. \n",
      "\n",
      "Keep your sense of humor.\n",
      "Preventive meausres for severe stage AD\n",
      "-----------------------------------------\n",
      "Memantine (Namenda) and a combination of memantine and donepezil (Namzaric) are approved by the FDA for treatment of moderate to severe Alzheimer’s.\n",
      "\n",
      "Memantine is prescribed to improve memory, attention, reason, language and the ability to perform simple tasks. It can be used alone or with other Alzheimer’s disease treatments. There is some evidence that individuals with moderate to severe Alzheimer’s who are taking a cholinesterase inhibitor might benefit by also taking memantine. A medication that combines memantine and a cholinesterase inhibitor is available.\n"
     ]
    }
   ],
   "source": [
    "id = input(\"Enter the Subject ID: \")\n",
    "df = cross1[cross1['Subject ID'] == id]\n",
    "if df.empty:\n",
    "    print(\"Invalid ID\")\n",
    "if df.empty == False:\n",
    "    print(\"CDR Mean: \",df['CDR'].mean())\n",
    "    print(\"MMSE mean: \",df['MMSE'].mean())\n",
    "    print(\"CDR standard deviation: \",df['CDR'].std())\n",
    "    print(\"MMSE standard deviation: \",df['MMSE'].std())\n",
    "    plt.plot(df['Visit'],df['CDR'])\n",
    "    plt.plot(df['Visit'], df['MMSE'])\n",
    "    plt.xlabel('Visits')\n",
    "    plt.title(id)\n",
    "    plt.legend(['CDR','MMSE'], loc = 'center')\n",
    "    plt.show()\n",
    "    print(\"General preventive measures\")\n",
    "    print(\"----------------------------\")\n",
    "    print(\" \")\n",
    "    f1 = open('preventive_measures_non_pharma.txt',\"r\")\n",
    "    print(f1.read())\n",
    "    if df['CDR'].iloc[-1] >= 0.5:\n",
    "        f2 = open('severe_pharma.txt',\"r\")\n",
    "        print(\"Preventive meausres for severe stage AD\")\n",
    "        print(\"-----------------------------------------\")\n",
    "        print(f2.read())\n",
    "    elif df['CDR'].iloc[-1] < 0.5:\n",
    "        f3 = open('pharma_moderate_early.txt',\"r\")\n",
    "        print(\" \")\n",
    "        print(\"Preventive meausres for mild/early stage AD\")\n",
    "        print(\"-----------------------------------------\")\n",
    "        print(f3.read())"
   ]
  },
  {
   "cell_type": "code",
   "execution_count": null,
   "metadata": {},
   "outputs": [],
   "source": [
    "\n"
   ]
  },
  {
   "cell_type": "code",
   "execution_count": null,
   "metadata": {},
   "outputs": [],
   "source": []
  },
  {
   "cell_type": "code",
   "execution_count": null,
   "metadata": {},
   "outputs": [],
   "source": []
  }
 ],
 "metadata": {
  "kernelspec": {
   "display_name": "Python 3",
   "language": "python",
   "name": "python3"
  },
  "language_info": {
   "codemirror_mode": {
    "name": "ipython",
    "version": 3
   },
   "file_extension": ".py",
   "mimetype": "text/x-python",
   "name": "python",
   "nbconvert_exporter": "python",
   "pygments_lexer": "ipython3",
   "version": "3.6.6"
  }
 },
 "nbformat": 4,
 "nbformat_minor": 2
}
